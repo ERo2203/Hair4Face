{
 "cells": [
  {
   "cell_type": "markdown",
   "id": "4ae02e68",
   "metadata": {},
   "source": [
    "# Hair4Face Streamlit Web Application\n",
    "\n",
    "This app allows users to select gender, capture a photo, and get real-time face shape and hairstyle suggestions. The logic and UI are powered by the code in `main.ipynb`."
   ]
  },
  {
   "cell_type": "code",
   "execution_count": null,
   "id": "922b310d",
   "metadata": {},
   "outputs": [],
   "source": [
    "# To run the Streamlit app, use the following command in your terminal:\n",
    "# streamlit run codebase/main.ipynb\n",
    "\n",
    "# If you want to run from a .py file, export main.ipynb as main.py and use:\n",
    "# streamlit run codebase/main.py\n",
    "\n",
    "# The app will launch in your browser and connect all logic and UI from main.ipynb.\n",
    "\n",
    "# For notebook-based development, you can use streamlit_jupyter or similar tools to run Streamlit inside Jupyter, but for production use, run as above."
   ]
  }
 ],
 "metadata": {
  "language_info": {
   "name": "python"
  }
 },
 "nbformat": 4,
 "nbformat_minor": 5
}
