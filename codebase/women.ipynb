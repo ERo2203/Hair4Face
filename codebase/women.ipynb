{
 "cells": [
  {
   "cell_type": "code",
   "execution_count": 1,
   "id": "f08bad09",
   "metadata": {},
   "outputs": [],
   "source": [
    "# Improved cleaning of corrupted images from dataset\n",
    "from PIL import Image, UnidentifiedImageError\n",
    "import os\n",
    "\n",
    "def clean_folder(folder):\n",
    "    for root, dirs, files in os.walk(folder):\n",
    "        for fname in files:\n",
    "            if fname.lower().endswith('.jpg'):\n",
    "                fpath = os.path.join(root, fname)\n",
    "                try:\n",
    "                    # Remove zero-byte files\n",
    "                    if os.path.getsize(fpath) == 0:\n",
    "                        print(f\"Removing zero-byte image: {fpath}\")\n",
    "                        os.remove(fpath)\n",
    "                        continue\n",
    "                    # Try to fully open and load the image\n",
    "                    with Image.open(fpath) as img:\n",
    "                        img.load()\n",
    "                except (OSError, UnidentifiedImageError, Exception):\n",
    "                    print(f\"Removing corrupted image: {fpath}\")\n",
    "                    os.remove(fpath)\n",
    "\n",
    "clean_folder('/Users/rohanrao/Desktop/hair4face/womens faceshape/training_set')\n",
    "clean_folder('/Users/rohanrao/Desktop/hair4face/womens faceshape/testing_set')"
   ]
  },
  {
   "cell_type": "code",
   "execution_count": 2,
   "id": "ba0af8df",
   "metadata": {},
   "outputs": [
    {
     "name": "stdout",
     "output_type": "stream",
     "text": [
      "Found 3998 images belonging to 5 classes.\n",
      "Found 1000 images belonging to 5 classes.\n"
     ]
    },
    {
     "name": "stderr",
     "output_type": "stream",
     "text": [
      "/Users/rohanrao/Desktop/hair4face/.venv312/lib/python3.12/site-packages/keras/src/layers/convolutional/base_conv.py:113: UserWarning: Do not pass an `input_shape`/`input_dim` argument to a layer. When using Sequential models, prefer using an `Input(shape)` object as the first layer in the model instead.\n",
      "  super().__init__(activity_regularizer=activity_regularizer, **kwargs)\n",
      "/Users/rohanrao/Desktop/hair4face/.venv312/lib/python3.12/site-packages/keras/src/trainers/data_adapters/py_dataset_adapter.py:121: UserWarning: Your `PyDataset` class should call `super().__init__(**kwargs)` in its constructor. `**kwargs` can include `workers`, `use_multiprocessing`, `max_queue_size`. Do not pass these arguments to `fit()`, as they will be ignored.\n",
      "  self._warn_if_super_not_called()\n"
     ]
    },
    {
     "name": "stdout",
     "output_type": "stream",
     "text": [
      "Epoch 1/10\n",
      "\u001b[1m125/125\u001b[0m \u001b[32m━━━━━━━━━━━━━━━━━━━━\u001b[0m\u001b[37m\u001b[0m \u001b[1m26s\u001b[0m 199ms/step - accuracy: 0.2364 - loss: 1.7422 - val_accuracy: 0.2910 - val_loss: 1.5676\n",
      "Epoch 2/10\n",
      "\u001b[1m125/125\u001b[0m \u001b[32m━━━━━━━━━━━━━━━━━━━━\u001b[0m\u001b[37m\u001b[0m \u001b[1m24s\u001b[0m 192ms/step - accuracy: 0.3672 - loss: 1.4885 - val_accuracy: 0.3350 - val_loss: 1.5192\n",
      "Epoch 3/10\n",
      "\u001b[1m125/125\u001b[0m \u001b[32m━━━━━━━━━━━━━━━━━━━━\u001b[0m\u001b[37m\u001b[0m \u001b[1m28s\u001b[0m 227ms/step - accuracy: 0.4632 - loss: 1.3110 - val_accuracy: 0.3630 - val_loss: 1.5492\n",
      "Epoch 4/10\n",
      "\u001b[1m125/125\u001b[0m \u001b[32m━━━━━━━━━━━━━━━━━━━━\u001b[0m\u001b[37m\u001b[0m \u001b[1m27s\u001b[0m 215ms/step - accuracy: 0.6126 - loss: 1.0065 - val_accuracy: 0.3550 - val_loss: 1.7766\n",
      "Epoch 5/10\n",
      "\u001b[1m125/125\u001b[0m \u001b[32m━━━━━━━━━━━━━━━━━━━━\u001b[0m\u001b[37m\u001b[0m \u001b[1m30s\u001b[0m 242ms/step - accuracy: 0.7821 - loss: 0.6150 - val_accuracy: 0.3490 - val_loss: 2.1544\n",
      "Epoch 6/10\n",
      "\u001b[1m125/125\u001b[0m \u001b[32m━━━━━━━━━━━━━━━━━━━━\u001b[0m\u001b[37m\u001b[0m \u001b[1m29s\u001b[0m 227ms/step - accuracy: 0.9090 - loss: 0.2767 - val_accuracy: 0.3640 - val_loss: 2.6445\n",
      "Epoch 7/10\n",
      "\u001b[1m125/125\u001b[0m \u001b[32m━━━━━━━━━━━━━━━━━━━━\u001b[0m\u001b[37m\u001b[0m \u001b[1m29s\u001b[0m 228ms/step - accuracy: 0.9697 - loss: 0.1126 - val_accuracy: 0.3570 - val_loss: 3.2455\n",
      "Epoch 8/10\n",
      "\u001b[1m125/125\u001b[0m \u001b[32m━━━━━━━━━━━━━━━━━━━━\u001b[0m\u001b[37m\u001b[0m \u001b[1m29s\u001b[0m 230ms/step - accuracy: 0.9920 - loss: 0.0515 - val_accuracy: 0.3780 - val_loss: 3.9117\n",
      "Epoch 9/10\n",
      "\u001b[1m125/125\u001b[0m \u001b[32m━━━━━━━━━━━━━━━━━━━━\u001b[0m\u001b[37m\u001b[0m \u001b[1m30s\u001b[0m 237ms/step - accuracy: 0.9960 - loss: 0.0279 - val_accuracy: 0.3580 - val_loss: 4.2520\n",
      "Epoch 10/10\n",
      "\u001b[1m125/125\u001b[0m \u001b[32m━━━━━━━━━━━━━━━━━━━━\u001b[0m\u001b[37m\u001b[0m \u001b[1m29s\u001b[0m 230ms/step - accuracy: 0.9995 - loss: 0.0106 - val_accuracy: 0.3580 - val_loss: 4.5595\n",
      "\u001b[1m32/32\u001b[0m \u001b[32m━━━━━━━━━━━━━━━━━━━━\u001b[0m\u001b[37m\u001b[0m \u001b[1m4s\u001b[0m 123ms/step - accuracy: 0.3580 - loss: 4.5595\n",
      "Test accuracy: 0.36\n"
     ]
    }
   ],
   "source": [
    "import os\n",
    "import numpy as np\n",
    "import tensorflow as tf\n",
    "from tensorflow.keras.preprocessing.image import ImageDataGenerator\n",
    "from tensorflow.keras import layers, models\n",
    "\n",
    "# Paths to training and testing sets\n",
    "train_dir = '/Users/rohanrao/Desktop/hair4face/womens faceshape/training_set'\n",
    "test_dir = '/Users/rohanrao/Desktop/hair4face/womens faceshape/testing_set'\n",
    "\n",
    "# Image parameters\n",
    "IMG_SIZE = (128, 128)\n",
    "BATCH_SIZE = 32\n",
    "\n",
    "# Data generators (folders: Heart, Oblong, Oval, Round, Square)\n",
    "train_gen = ImageDataGenerator(rescale=1./255)\n",
    "test_gen = ImageDataGenerator(rescale=1./255)\n",
    "\n",
    "train_data = train_gen.flow_from_directory(\n",
    "    train_dir,\n",
    "    target_size=IMG_SIZE,\n",
    "    batch_size=BATCH_SIZE,\n",
    "    class_mode='categorical'\n",
    ")\n",
    "\n",
    "test_data = test_gen.flow_from_directory(\n",
    "    test_dir,\n",
    "    target_size=IMG_SIZE,\n",
    "    batch_size=BATCH_SIZE,\n",
    "    class_mode='categorical'\n",
    ")\n",
    "\n",
    "# Model definition\n",
    "model = models.Sequential([\n",
    "    layers.Conv2D(32, (3,3), activation='relu', input_shape=IMG_SIZE + (3,)),\n",
    "    layers.MaxPooling2D(2,2),\n",
    "    layers.Conv2D(64, (3,3), activation='relu'),\n",
    "    layers.MaxPooling2D(2,2),\n",
    "    layers.Flatten(),\n",
    "    layers.Dense(128, activation='relu'),\n",
    "    layers.Dense(5, activation='softmax')  # 5 classes: Heart, Oblong, Oval, Round, Square\n",
    "])\n",
    "\n",
    "model.compile(optimizer='adam', loss='categorical_crossentropy', metrics=['accuracy'])\n",
    "\n",
    "# Train the model\n",
    "history = model.fit(train_data, epochs=10, validation_data=test_data)\n",
    "\n",
    "# Evaluate\n",
    "loss, acc = model.evaluate(test_data)\n",
    "print(f'Test accuracy: {acc:.2f}')"
   ]
  },
  {
   "cell_type": "code",
   "execution_count": 3,
   "id": "cea0b172",
   "metadata": {},
   "outputs": [
    {
     "name": "stderr",
     "output_type": "stream",
     "text": [
      "WARNING:absl:You are saving your model as an HDF5 file via `model.save()` or `keras.saving.save_model(model)`. This file format is considered legacy. We recommend using instead the native Keras format, e.g. `model.save('my_model.keras')` or `keras.saving.save_model(model, 'my_model.keras')`. \n"
     ]
    }
   ],
   "source": [
    "# Save the trained model\n",
    "model.save('codebase/women_faceshape_model.h5')"
   ]
  },
  {
   "cell_type": "code",
   "execution_count": 10,
   "id": "e5a39662",
   "metadata": {},
   "outputs": [
    {
     "name": "stderr",
     "output_type": "stream",
     "text": [
      "WARNING:absl:Compiled the loaded model, but the compiled metrics have yet to be built. `model.compile_metrics` will be empty until you train or evaluate the model.\n"
     ]
    },
    {
     "name": "stdout",
     "output_type": "stream",
     "text": [
      "\u001b[1m1/1\u001b[0m \u001b[32m━━━━━━━━━━━━━━━━━━━━\u001b[0m\u001b[37m\u001b[0m \u001b[1m0s\u001b[0m 42ms/step\n",
      "Test image: /Users/rohanrao/Desktop/hair4face/womens faceshape/testing_set/Oval/oval (293).jpg\n",
      "Predicted face shape: Oval\n"
     ]
    }
   ],
   "source": [
    "import random\n",
    "from tensorflow.keras.models import load_model\n",
    "from tensorflow.keras.preprocessing import image\n",
    "\n",
    "# Load the saved model\n",
    "model = load_model('codebase/women_faceshape_model.h5')\n",
    "\n",
    "# Get class labels from the training generator\n",
    "class_labels = list(train_data.class_indices.keys())\n",
    "\n",
    "# Pick a random image from the test set\n",
    "test_dirs = [\n",
    "    '/Users/rohanrao/Desktop/hair4face/womens faceshape/testing_set/Heart',\n",
    "    '/Users/rohanrao/Desktop/hair4face/womens faceshape/testing_set/Oblong',\n",
    "    '/Users/rohanrao/Desktop/hair4face/womens faceshape/testing_set/Oval',\n",
    "    '/Users/rohanrao/Desktop/hair4face/womens faceshape/testing_set/Round',\n",
    "    '/Users/rohanrao/Desktop/hair4face/womens faceshape/testing_set/Square'\n",
    "]\n",
    "test_dir = random.choice(test_dirs)\n",
    "img_name = random.choice([f for f in os.listdir(test_dir) if f.lower().endswith('.jpg')])\n",
    "img_path = os.path.join(test_dir, img_name)\n",
    "\n",
    "# Load and preprocess the image\n",
    "img = image.load_img(img_path, target_size=IMG_SIZE)\n",
    "x = image.img_to_array(img)\n",
    "x = x / 255.0\n",
    "x = np.expand_dims(x, axis=0)\n",
    "\n",
    "# Predict\n",
    "pred = model.predict(x)\n",
    "pred_class = class_labels[np.argmax(pred)]\n",
    "print(f\"Test image: {img_path}\")\n",
    "print(f\"Predicted face shape: {pred_class}\")"
   ]
  }
 ],
 "metadata": {
  "kernelspec": {
   "display_name": ".venv312",
   "language": "python",
   "name": "python3"
  },
  "language_info": {
   "codemirror_mode": {
    "name": "ipython",
    "version": 3
   },
   "file_extension": ".py",
   "mimetype": "text/x-python",
   "name": "python",
   "nbconvert_exporter": "python",
   "pygments_lexer": "ipython3",
   "version": "3.12.11"
  }
 },
 "nbformat": 4,
 "nbformat_minor": 5
}
